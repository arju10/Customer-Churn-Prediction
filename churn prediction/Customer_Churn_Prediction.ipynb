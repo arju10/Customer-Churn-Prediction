{
  "nbformat": 4,
  "nbformat_minor": 0,
  "metadata": {
    "colab": {
      "provenance": []
    },
    "kernelspec": {
      "name": "python3",
      "display_name": "Python 3"
    },
    "language_info": {
      "name": "python"
    },
    "accelerator": "TPU"
  },
  "cells": [
    {
      "cell_type": "code",
      "source": [
        "# Mount the google drive\n",
        "from google.colab import drive\n",
        "drive.mount('/content/drive')"
      ],
      "metadata": {
        "colab": {
          "base_uri": "https://localhost:8080/"
        },
        "id": "GsCRqxdwBR95",
        "outputId": "7f14faed-1927-4203-bc89-5d896a4e1e54"
      },
      "execution_count": 2,
      "outputs": [
        {
          "output_type": "stream",
          "name": "stdout",
          "text": [
            "Mounted at /content/drive\n"
          ]
        }
      ]
    },
    {
      "cell_type": "code",
      "source": [
        "cd /content/drive/MyDrive/Job Assignments/Internshala/Data Science/SunbaseData"
      ],
      "metadata": {
        "colab": {
          "base_uri": "https://localhost:8080/"
        },
        "id": "jfByUJstB2hY",
        "outputId": "b730cffd-bfb3-4c55-e3df-cba100a5e9ab"
      },
      "execution_count": 3,
      "outputs": [
        {
          "output_type": "stream",
          "name": "stdout",
          "text": [
            "/content/drive/MyDrive/Job Assignments/Internshala/Data Science/SunbaseData\n"
          ]
        }
      ]
    },
    {
      "cell_type": "markdown",
      "source": [
        "# **Data Preprocessing**"
      ],
      "metadata": {
        "id": "427LkHczBsDf"
      }
    },
    {
      "cell_type": "code",
      "execution_count": 4,
      "metadata": {
        "id": "a8cubKh3uYmf"
      },
      "outputs": [],
      "source": [
        "# import libraries\n",
        "import pandas as pd"
      ]
    },
    {
      "cell_type": "code",
      "source": [
        "# import dataset\n",
        "churn_data = pd.read_excel(\"customer_churn_large_dataset.xlsx\")\n",
        "churn_data.head()"
      ],
      "metadata": {
        "colab": {
          "base_uri": "https://localhost:8080/",
          "height": 206
        },
        "id": "v5BBUGuqufMk",
        "outputId": "ad110321-d203-437c-b5e1-8473d4ef341b"
      },
      "execution_count": 8,
      "outputs": [
        {
          "output_type": "execute_result",
          "data": {
            "text/plain": [
              "   CustomerID        Name  Age  Gender     Location  \\\n",
              "0           1  Customer_1   63    Male  Los Angeles   \n",
              "1           2  Customer_2   62  Female     New York   \n",
              "2           3  Customer_3   24  Female  Los Angeles   \n",
              "3           4  Customer_4   36  Female        Miami   \n",
              "4           5  Customer_5   46  Female        Miami   \n",
              "\n",
              "   Subscription_Length_Months  Monthly_Bill  Total_Usage_GB  Churn  \n",
              "0                          17         73.36             236      0  \n",
              "1                           1         48.76             172      0  \n",
              "2                           5         85.47             460      0  \n",
              "3                           3         97.94             297      1  \n",
              "4                          19         58.14             266      0  "
            ],
            "text/html": [
              "\n",
              "  <div id=\"df-b2752d04-d1e7-4f3c-8ff2-c9d375813b79\" class=\"colab-df-container\">\n",
              "    <div>\n",
              "<style scoped>\n",
              "    .dataframe tbody tr th:only-of-type {\n",
              "        vertical-align: middle;\n",
              "    }\n",
              "\n",
              "    .dataframe tbody tr th {\n",
              "        vertical-align: top;\n",
              "    }\n",
              "\n",
              "    .dataframe thead th {\n",
              "        text-align: right;\n",
              "    }\n",
              "</style>\n",
              "<table border=\"1\" class=\"dataframe\">\n",
              "  <thead>\n",
              "    <tr style=\"text-align: right;\">\n",
              "      <th></th>\n",
              "      <th>CustomerID</th>\n",
              "      <th>Name</th>\n",
              "      <th>Age</th>\n",
              "      <th>Gender</th>\n",
              "      <th>Location</th>\n",
              "      <th>Subscription_Length_Months</th>\n",
              "      <th>Monthly_Bill</th>\n",
              "      <th>Total_Usage_GB</th>\n",
              "      <th>Churn</th>\n",
              "    </tr>\n",
              "  </thead>\n",
              "  <tbody>\n",
              "    <tr>\n",
              "      <th>0</th>\n",
              "      <td>1</td>\n",
              "      <td>Customer_1</td>\n",
              "      <td>63</td>\n",
              "      <td>Male</td>\n",
              "      <td>Los Angeles</td>\n",
              "      <td>17</td>\n",
              "      <td>73.36</td>\n",
              "      <td>236</td>\n",
              "      <td>0</td>\n",
              "    </tr>\n",
              "    <tr>\n",
              "      <th>1</th>\n",
              "      <td>2</td>\n",
              "      <td>Customer_2</td>\n",
              "      <td>62</td>\n",
              "      <td>Female</td>\n",
              "      <td>New York</td>\n",
              "      <td>1</td>\n",
              "      <td>48.76</td>\n",
              "      <td>172</td>\n",
              "      <td>0</td>\n",
              "    </tr>\n",
              "    <tr>\n",
              "      <th>2</th>\n",
              "      <td>3</td>\n",
              "      <td>Customer_3</td>\n",
              "      <td>24</td>\n",
              "      <td>Female</td>\n",
              "      <td>Los Angeles</td>\n",
              "      <td>5</td>\n",
              "      <td>85.47</td>\n",
              "      <td>460</td>\n",
              "      <td>0</td>\n",
              "    </tr>\n",
              "    <tr>\n",
              "      <th>3</th>\n",
              "      <td>4</td>\n",
              "      <td>Customer_4</td>\n",
              "      <td>36</td>\n",
              "      <td>Female</td>\n",
              "      <td>Miami</td>\n",
              "      <td>3</td>\n",
              "      <td>97.94</td>\n",
              "      <td>297</td>\n",
              "      <td>1</td>\n",
              "    </tr>\n",
              "    <tr>\n",
              "      <th>4</th>\n",
              "      <td>5</td>\n",
              "      <td>Customer_5</td>\n",
              "      <td>46</td>\n",
              "      <td>Female</td>\n",
              "      <td>Miami</td>\n",
              "      <td>19</td>\n",
              "      <td>58.14</td>\n",
              "      <td>266</td>\n",
              "      <td>0</td>\n",
              "    </tr>\n",
              "  </tbody>\n",
              "</table>\n",
              "</div>\n",
              "    <div class=\"colab-df-buttons\">\n",
              "\n",
              "  <div class=\"colab-df-container\">\n",
              "    <button class=\"colab-df-convert\" onclick=\"convertToInteractive('df-b2752d04-d1e7-4f3c-8ff2-c9d375813b79')\"\n",
              "            title=\"Convert this dataframe to an interactive table.\"\n",
              "            style=\"display:none;\">\n",
              "\n",
              "  <svg xmlns=\"http://www.w3.org/2000/svg\" height=\"24px\" viewBox=\"0 -960 960 960\">\n",
              "    <path d=\"M120-120v-720h720v720H120Zm60-500h600v-160H180v160Zm220 220h160v-160H400v160Zm0 220h160v-160H400v160ZM180-400h160v-160H180v160Zm440 0h160v-160H620v160ZM180-180h160v-160H180v160Zm440 0h160v-160H620v160Z\"/>\n",
              "  </svg>\n",
              "    </button>\n",
              "\n",
              "  <style>\n",
              "    .colab-df-container {\n",
              "      display:flex;\n",
              "      gap: 12px;\n",
              "    }\n",
              "\n",
              "    .colab-df-convert {\n",
              "      background-color: #E8F0FE;\n",
              "      border: none;\n",
              "      border-radius: 50%;\n",
              "      cursor: pointer;\n",
              "      display: none;\n",
              "      fill: #1967D2;\n",
              "      height: 32px;\n",
              "      padding: 0 0 0 0;\n",
              "      width: 32px;\n",
              "    }\n",
              "\n",
              "    .colab-df-convert:hover {\n",
              "      background-color: #E2EBFA;\n",
              "      box-shadow: 0px 1px 2px rgba(60, 64, 67, 0.3), 0px 1px 3px 1px rgba(60, 64, 67, 0.15);\n",
              "      fill: #174EA6;\n",
              "    }\n",
              "\n",
              "    .colab-df-buttons div {\n",
              "      margin-bottom: 4px;\n",
              "    }\n",
              "\n",
              "    [theme=dark] .colab-df-convert {\n",
              "      background-color: #3B4455;\n",
              "      fill: #D2E3FC;\n",
              "    }\n",
              "\n",
              "    [theme=dark] .colab-df-convert:hover {\n",
              "      background-color: #434B5C;\n",
              "      box-shadow: 0px 1px 3px 1px rgba(0, 0, 0, 0.15);\n",
              "      filter: drop-shadow(0px 1px 2px rgba(0, 0, 0, 0.3));\n",
              "      fill: #FFFFFF;\n",
              "    }\n",
              "  </style>\n",
              "\n",
              "    <script>\n",
              "      const buttonEl =\n",
              "        document.querySelector('#df-b2752d04-d1e7-4f3c-8ff2-c9d375813b79 button.colab-df-convert');\n",
              "      buttonEl.style.display =\n",
              "        google.colab.kernel.accessAllowed ? 'block' : 'none';\n",
              "\n",
              "      async function convertToInteractive(key) {\n",
              "        const element = document.querySelector('#df-b2752d04-d1e7-4f3c-8ff2-c9d375813b79');\n",
              "        const dataTable =\n",
              "          await google.colab.kernel.invokeFunction('convertToInteractive',\n",
              "                                                    [key], {});\n",
              "        if (!dataTable) return;\n",
              "\n",
              "        const docLinkHtml = 'Like what you see? Visit the ' +\n",
              "          '<a target=\"_blank\" href=https://colab.research.google.com/notebooks/data_table.ipynb>data table notebook</a>'\n",
              "          + ' to learn more about interactive tables.';\n",
              "        element.innerHTML = '';\n",
              "        dataTable['output_type'] = 'display_data';\n",
              "        await google.colab.output.renderOutput(dataTable, element);\n",
              "        const docLink = document.createElement('div');\n",
              "        docLink.innerHTML = docLinkHtml;\n",
              "        element.appendChild(docLink);\n",
              "      }\n",
              "    </script>\n",
              "  </div>\n",
              "\n",
              "\n",
              "<div id=\"df-26456c16-a925-4eed-9670-1505608b8ad0\">\n",
              "  <button class=\"colab-df-quickchart\" onclick=\"quickchart('df-26456c16-a925-4eed-9670-1505608b8ad0')\"\n",
              "            title=\"Suggest charts.\"\n",
              "            style=\"display:none;\">\n",
              "\n",
              "<svg xmlns=\"http://www.w3.org/2000/svg\" height=\"24px\"viewBox=\"0 0 24 24\"\n",
              "     width=\"24px\">\n",
              "    <g>\n",
              "        <path d=\"M19 3H5c-1.1 0-2 .9-2 2v14c0 1.1.9 2 2 2h14c1.1 0 2-.9 2-2V5c0-1.1-.9-2-2-2zM9 17H7v-7h2v7zm4 0h-2V7h2v10zm4 0h-2v-4h2v4z\"/>\n",
              "    </g>\n",
              "</svg>\n",
              "  </button>\n",
              "\n",
              "<style>\n",
              "  .colab-df-quickchart {\n",
              "    background-color: #E8F0FE;\n",
              "    border: none;\n",
              "    border-radius: 50%;\n",
              "    cursor: pointer;\n",
              "    display: none;\n",
              "    fill: #1967D2;\n",
              "    height: 32px;\n",
              "    padding: 0 0 0 0;\n",
              "    width: 32px;\n",
              "  }\n",
              "\n",
              "  .colab-df-quickchart:hover {\n",
              "    background-color: #E2EBFA;\n",
              "    box-shadow: 0px 1px 2px rgba(60, 64, 67, 0.3), 0px 1px 3px 1px rgba(60, 64, 67, 0.15);\n",
              "    fill: #174EA6;\n",
              "  }\n",
              "\n",
              "  [theme=dark] .colab-df-quickchart {\n",
              "    background-color: #3B4455;\n",
              "    fill: #D2E3FC;\n",
              "  }\n",
              "\n",
              "  [theme=dark] .colab-df-quickchart:hover {\n",
              "    background-color: #434B5C;\n",
              "    box-shadow: 0px 1px 3px 1px rgba(0, 0, 0, 0.15);\n",
              "    filter: drop-shadow(0px 1px 2px rgba(0, 0, 0, 0.3));\n",
              "    fill: #FFFFFF;\n",
              "  }\n",
              "</style>\n",
              "\n",
              "  <script>\n",
              "    async function quickchart(key) {\n",
              "      const charts = await google.colab.kernel.invokeFunction(\n",
              "          'suggestCharts', [key], {});\n",
              "    }\n",
              "    (() => {\n",
              "      let quickchartButtonEl =\n",
              "        document.querySelector('#df-26456c16-a925-4eed-9670-1505608b8ad0 button');\n",
              "      quickchartButtonEl.style.display =\n",
              "        google.colab.kernel.accessAllowed ? 'block' : 'none';\n",
              "    })();\n",
              "  </script>\n",
              "</div>\n",
              "    </div>\n",
              "  </div>\n"
            ]
          },
          "metadata": {},
          "execution_count": 8
        }
      ]
    },
    {
      "cell_type": "code",
      "source": [
        "churn_data.info()"
      ],
      "metadata": {
        "colab": {
          "base_uri": "https://localhost:8080/"
        },
        "id": "tg1YNc19vHPt",
        "outputId": "f2f59927-f8b0-4b87-a62b-3260c6e417a3"
      },
      "execution_count": 9,
      "outputs": [
        {
          "output_type": "stream",
          "name": "stdout",
          "text": [
            "<class 'pandas.core.frame.DataFrame'>\n",
            "RangeIndex: 100000 entries, 0 to 99999\n",
            "Data columns (total 9 columns):\n",
            " #   Column                      Non-Null Count   Dtype  \n",
            "---  ------                      --------------   -----  \n",
            " 0   CustomerID                  100000 non-null  int64  \n",
            " 1   Name                        100000 non-null  object \n",
            " 2   Age                         100000 non-null  int64  \n",
            " 3   Gender                      100000 non-null  object \n",
            " 4   Location                    100000 non-null  object \n",
            " 5   Subscription_Length_Months  100000 non-null  int64  \n",
            " 6   Monthly_Bill                100000 non-null  float64\n",
            " 7   Total_Usage_GB              100000 non-null  int64  \n",
            " 8   Churn                       100000 non-null  int64  \n",
            "dtypes: float64(1), int64(5), object(3)\n",
            "memory usage: 6.9+ MB\n"
          ]
        }
      ]
    },
    {
      "cell_type": "code",
      "source": [
        "churn_data.describe()"
      ],
      "metadata": {
        "colab": {
          "base_uri": "https://localhost:8080/",
          "height": 300
        },
        "id": "IiVGaQaGvjPz",
        "outputId": "4ffcef72-2495-492f-854f-b0e734e6a1e2"
      },
      "execution_count": 10,
      "outputs": [
        {
          "output_type": "execute_result",
          "data": {
            "text/plain": [
              "          CustomerID            Age  Subscription_Length_Months  \\\n",
              "count  100000.000000  100000.000000               100000.000000   \n",
              "mean    50000.500000      44.027020                   12.490100   \n",
              "std     28867.657797      15.280283                    6.926461   \n",
              "min         1.000000      18.000000                    1.000000   \n",
              "25%     25000.750000      31.000000                    6.000000   \n",
              "50%     50000.500000      44.000000                   12.000000   \n",
              "75%     75000.250000      57.000000                   19.000000   \n",
              "max    100000.000000      70.000000                   24.000000   \n",
              "\n",
              "        Monthly_Bill  Total_Usage_GB          Churn  \n",
              "count  100000.000000   100000.000000  100000.000000  \n",
              "mean       65.053197      274.393650       0.497790  \n",
              "std        20.230696      130.463063       0.499998  \n",
              "min        30.000000       50.000000       0.000000  \n",
              "25%        47.540000      161.000000       0.000000  \n",
              "50%        65.010000      274.000000       0.000000  \n",
              "75%        82.640000      387.000000       1.000000  \n",
              "max       100.000000      500.000000       1.000000  "
            ],
            "text/html": [
              "\n",
              "  <div id=\"df-5aa211ba-a759-4bd1-9c26-a5ee2d897aa3\" class=\"colab-df-container\">\n",
              "    <div>\n",
              "<style scoped>\n",
              "    .dataframe tbody tr th:only-of-type {\n",
              "        vertical-align: middle;\n",
              "    }\n",
              "\n",
              "    .dataframe tbody tr th {\n",
              "        vertical-align: top;\n",
              "    }\n",
              "\n",
              "    .dataframe thead th {\n",
              "        text-align: right;\n",
              "    }\n",
              "</style>\n",
              "<table border=\"1\" class=\"dataframe\">\n",
              "  <thead>\n",
              "    <tr style=\"text-align: right;\">\n",
              "      <th></th>\n",
              "      <th>CustomerID</th>\n",
              "      <th>Age</th>\n",
              "      <th>Subscription_Length_Months</th>\n",
              "      <th>Monthly_Bill</th>\n",
              "      <th>Total_Usage_GB</th>\n",
              "      <th>Churn</th>\n",
              "    </tr>\n",
              "  </thead>\n",
              "  <tbody>\n",
              "    <tr>\n",
              "      <th>count</th>\n",
              "      <td>100000.000000</td>\n",
              "      <td>100000.000000</td>\n",
              "      <td>100000.000000</td>\n",
              "      <td>100000.000000</td>\n",
              "      <td>100000.000000</td>\n",
              "      <td>100000.000000</td>\n",
              "    </tr>\n",
              "    <tr>\n",
              "      <th>mean</th>\n",
              "      <td>50000.500000</td>\n",
              "      <td>44.027020</td>\n",
              "      <td>12.490100</td>\n",
              "      <td>65.053197</td>\n",
              "      <td>274.393650</td>\n",
              "      <td>0.497790</td>\n",
              "    </tr>\n",
              "    <tr>\n",
              "      <th>std</th>\n",
              "      <td>28867.657797</td>\n",
              "      <td>15.280283</td>\n",
              "      <td>6.926461</td>\n",
              "      <td>20.230696</td>\n",
              "      <td>130.463063</td>\n",
              "      <td>0.499998</td>\n",
              "    </tr>\n",
              "    <tr>\n",
              "      <th>min</th>\n",
              "      <td>1.000000</td>\n",
              "      <td>18.000000</td>\n",
              "      <td>1.000000</td>\n",
              "      <td>30.000000</td>\n",
              "      <td>50.000000</td>\n",
              "      <td>0.000000</td>\n",
              "    </tr>\n",
              "    <tr>\n",
              "      <th>25%</th>\n",
              "      <td>25000.750000</td>\n",
              "      <td>31.000000</td>\n",
              "      <td>6.000000</td>\n",
              "      <td>47.540000</td>\n",
              "      <td>161.000000</td>\n",
              "      <td>0.000000</td>\n",
              "    </tr>\n",
              "    <tr>\n",
              "      <th>50%</th>\n",
              "      <td>50000.500000</td>\n",
              "      <td>44.000000</td>\n",
              "      <td>12.000000</td>\n",
              "      <td>65.010000</td>\n",
              "      <td>274.000000</td>\n",
              "      <td>0.000000</td>\n",
              "    </tr>\n",
              "    <tr>\n",
              "      <th>75%</th>\n",
              "      <td>75000.250000</td>\n",
              "      <td>57.000000</td>\n",
              "      <td>19.000000</td>\n",
              "      <td>82.640000</td>\n",
              "      <td>387.000000</td>\n",
              "      <td>1.000000</td>\n",
              "    </tr>\n",
              "    <tr>\n",
              "      <th>max</th>\n",
              "      <td>100000.000000</td>\n",
              "      <td>70.000000</td>\n",
              "      <td>24.000000</td>\n",
              "      <td>100.000000</td>\n",
              "      <td>500.000000</td>\n",
              "      <td>1.000000</td>\n",
              "    </tr>\n",
              "  </tbody>\n",
              "</table>\n",
              "</div>\n",
              "    <div class=\"colab-df-buttons\">\n",
              "\n",
              "  <div class=\"colab-df-container\">\n",
              "    <button class=\"colab-df-convert\" onclick=\"convertToInteractive('df-5aa211ba-a759-4bd1-9c26-a5ee2d897aa3')\"\n",
              "            title=\"Convert this dataframe to an interactive table.\"\n",
              "            style=\"display:none;\">\n",
              "\n",
              "  <svg xmlns=\"http://www.w3.org/2000/svg\" height=\"24px\" viewBox=\"0 -960 960 960\">\n",
              "    <path d=\"M120-120v-720h720v720H120Zm60-500h600v-160H180v160Zm220 220h160v-160H400v160Zm0 220h160v-160H400v160ZM180-400h160v-160H180v160Zm440 0h160v-160H620v160ZM180-180h160v-160H180v160Zm440 0h160v-160H620v160Z\"/>\n",
              "  </svg>\n",
              "    </button>\n",
              "\n",
              "  <style>\n",
              "    .colab-df-container {\n",
              "      display:flex;\n",
              "      gap: 12px;\n",
              "    }\n",
              "\n",
              "    .colab-df-convert {\n",
              "      background-color: #E8F0FE;\n",
              "      border: none;\n",
              "      border-radius: 50%;\n",
              "      cursor: pointer;\n",
              "      display: none;\n",
              "      fill: #1967D2;\n",
              "      height: 32px;\n",
              "      padding: 0 0 0 0;\n",
              "      width: 32px;\n",
              "    }\n",
              "\n",
              "    .colab-df-convert:hover {\n",
              "      background-color: #E2EBFA;\n",
              "      box-shadow: 0px 1px 2px rgba(60, 64, 67, 0.3), 0px 1px 3px 1px rgba(60, 64, 67, 0.15);\n",
              "      fill: #174EA6;\n",
              "    }\n",
              "\n",
              "    .colab-df-buttons div {\n",
              "      margin-bottom: 4px;\n",
              "    }\n",
              "\n",
              "    [theme=dark] .colab-df-convert {\n",
              "      background-color: #3B4455;\n",
              "      fill: #D2E3FC;\n",
              "    }\n",
              "\n",
              "    [theme=dark] .colab-df-convert:hover {\n",
              "      background-color: #434B5C;\n",
              "      box-shadow: 0px 1px 3px 1px rgba(0, 0, 0, 0.15);\n",
              "      filter: drop-shadow(0px 1px 2px rgba(0, 0, 0, 0.3));\n",
              "      fill: #FFFFFF;\n",
              "    }\n",
              "  </style>\n",
              "\n",
              "    <script>\n",
              "      const buttonEl =\n",
              "        document.querySelector('#df-5aa211ba-a759-4bd1-9c26-a5ee2d897aa3 button.colab-df-convert');\n",
              "      buttonEl.style.display =\n",
              "        google.colab.kernel.accessAllowed ? 'block' : 'none';\n",
              "\n",
              "      async function convertToInteractive(key) {\n",
              "        const element = document.querySelector('#df-5aa211ba-a759-4bd1-9c26-a5ee2d897aa3');\n",
              "        const dataTable =\n",
              "          await google.colab.kernel.invokeFunction('convertToInteractive',\n",
              "                                                    [key], {});\n",
              "        if (!dataTable) return;\n",
              "\n",
              "        const docLinkHtml = 'Like what you see? Visit the ' +\n",
              "          '<a target=\"_blank\" href=https://colab.research.google.com/notebooks/data_table.ipynb>data table notebook</a>'\n",
              "          + ' to learn more about interactive tables.';\n",
              "        element.innerHTML = '';\n",
              "        dataTable['output_type'] = 'display_data';\n",
              "        await google.colab.output.renderOutput(dataTable, element);\n",
              "        const docLink = document.createElement('div');\n",
              "        docLink.innerHTML = docLinkHtml;\n",
              "        element.appendChild(docLink);\n",
              "      }\n",
              "    </script>\n",
              "  </div>\n",
              "\n",
              "\n",
              "<div id=\"df-51d15944-32fa-46b0-a0a1-045e7f1e89de\">\n",
              "  <button class=\"colab-df-quickchart\" onclick=\"quickchart('df-51d15944-32fa-46b0-a0a1-045e7f1e89de')\"\n",
              "            title=\"Suggest charts.\"\n",
              "            style=\"display:none;\">\n",
              "\n",
              "<svg xmlns=\"http://www.w3.org/2000/svg\" height=\"24px\"viewBox=\"0 0 24 24\"\n",
              "     width=\"24px\">\n",
              "    <g>\n",
              "        <path d=\"M19 3H5c-1.1 0-2 .9-2 2v14c0 1.1.9 2 2 2h14c1.1 0 2-.9 2-2V5c0-1.1-.9-2-2-2zM9 17H7v-7h2v7zm4 0h-2V7h2v10zm4 0h-2v-4h2v4z\"/>\n",
              "    </g>\n",
              "</svg>\n",
              "  </button>\n",
              "\n",
              "<style>\n",
              "  .colab-df-quickchart {\n",
              "    background-color: #E8F0FE;\n",
              "    border: none;\n",
              "    border-radius: 50%;\n",
              "    cursor: pointer;\n",
              "    display: none;\n",
              "    fill: #1967D2;\n",
              "    height: 32px;\n",
              "    padding: 0 0 0 0;\n",
              "    width: 32px;\n",
              "  }\n",
              "\n",
              "  .colab-df-quickchart:hover {\n",
              "    background-color: #E2EBFA;\n",
              "    box-shadow: 0px 1px 2px rgba(60, 64, 67, 0.3), 0px 1px 3px 1px rgba(60, 64, 67, 0.15);\n",
              "    fill: #174EA6;\n",
              "  }\n",
              "\n",
              "  [theme=dark] .colab-df-quickchart {\n",
              "    background-color: #3B4455;\n",
              "    fill: #D2E3FC;\n",
              "  }\n",
              "\n",
              "  [theme=dark] .colab-df-quickchart:hover {\n",
              "    background-color: #434B5C;\n",
              "    box-shadow: 0px 1px 3px 1px rgba(0, 0, 0, 0.15);\n",
              "    filter: drop-shadow(0px 1px 2px rgba(0, 0, 0, 0.3));\n",
              "    fill: #FFFFFF;\n",
              "  }\n",
              "</style>\n",
              "\n",
              "  <script>\n",
              "    async function quickchart(key) {\n",
              "      const charts = await google.colab.kernel.invokeFunction(\n",
              "          'suggestCharts', [key], {});\n",
              "    }\n",
              "    (() => {\n",
              "      let quickchartButtonEl =\n",
              "        document.querySelector('#df-51d15944-32fa-46b0-a0a1-045e7f1e89de button');\n",
              "      quickchartButtonEl.style.display =\n",
              "        google.colab.kernel.accessAllowed ? 'block' : 'none';\n",
              "    })();\n",
              "  </script>\n",
              "</div>\n",
              "    </div>\n",
              "  </div>\n"
            ]
          },
          "metadata": {},
          "execution_count": 10
        }
      ]
    },
    {
      "cell_type": "markdown",
      "source": [
        "Handle missing data and outliers"
      ],
      "metadata": {
        "id": "Js5xvH59B9vI"
      }
    },
    {
      "cell_type": "code",
      "source": [
        "churn_data.isnull().sum() # Check the missing data"
      ],
      "metadata": {
        "colab": {
          "base_uri": "https://localhost:8080/"
        },
        "id": "2HJMSJ-3vfxX",
        "outputId": "ce5f0ee0-8dad-4bfd-c5bf-c9ecf8e0fbae"
      },
      "execution_count": 11,
      "outputs": [
        {
          "output_type": "execute_result",
          "data": {
            "text/plain": [
              "CustomerID                    0\n",
              "Name                          0\n",
              "Age                           0\n",
              "Gender                        0\n",
              "Location                      0\n",
              "Subscription_Length_Months    0\n",
              "Monthly_Bill                  0\n",
              "Total_Usage_GB                0\n",
              "Churn                         0\n",
              "dtype: int64"
            ]
          },
          "metadata": {},
          "execution_count": 11
        }
      ]
    },
    {
      "cell_type": "code",
      "source": [
        "# Calculate Q1, Q3, and IQR\n",
        "Q1 = churn_data.select_dtypes(include=['number']).quantile(0.25, numeric_only=True)\n",
        "Q3 = churn_data.select_dtypes(include=['number']).quantile(0.75, numeric_only=True)\n",
        "IQR = Q3 - Q1\n",
        "\n",
        "# Removing outliers\n",
        "churn_data = churn_data[~((churn_data.select_dtypes(include=['number']) < (Q1 - 1.5 * IQR)) |\n",
        "          (churn_data.select_dtypes(include=['number']) > (Q3 + 1.5 * IQR))).any(axis=1)]\n"
      ],
      "metadata": {
        "id": "jemaCx2mvpEL"
      },
      "execution_count": 14,
      "outputs": []
    },
    {
      "cell_type": "markdown",
      "source": [
        "Prepare data for machine learning"
      ],
      "metadata": {
        "id": "Gpqkv7LBCHl0"
      }
    },
    {
      "cell_type": "code",
      "source": [
        "from sklearn.model_selection import train_test_split\n",
        "from sklearn.preprocessing import LabelEncoder\n",
        "\n",
        "# Encoding categorical variables\n",
        "labelencoder = LabelEncoder()\n",
        "churn_data['Gender'] = labelencoder.fit_transform(churn_data['Gender'])\n",
        "churn_data['Location'] = labelencoder.fit_transform(churn_data['Location'])"
      ],
      "metadata": {
        "id": "rADsTl8bwBsF"
      },
      "execution_count": 15,
      "outputs": []
    },
    {
      "cell_type": "code",
      "source": [
        "# Split data into training and testing sets\n",
        "X = churn_data.drop(['CustomerID', 'Name', 'Churn'], axis=1)\n",
        "y = churn_data['Churn']"
      ],
      "metadata": {
        "id": "ePOdLIwiwiW0"
      },
      "execution_count": 16,
      "outputs": []
    },
    {
      "cell_type": "code",
      "source": [
        "print('Shape of X = ', X.shape)\n",
        "print('Shape of y = ', y.shape)"
      ],
      "metadata": {
        "colab": {
          "base_uri": "https://localhost:8080/"
        },
        "id": "EQ1XLzEGwylJ",
        "outputId": "b26ce935-1873-4aa2-c65d-b72a6ba324ea"
      },
      "execution_count": 17,
      "outputs": [
        {
          "output_type": "stream",
          "name": "stdout",
          "text": [
            "Shape of X =  (100000, 6)\n",
            "Shape of y =  (100000,)\n"
          ]
        }
      ]
    },
    {
      "cell_type": "code",
      "source": [
        "X_train, X_test, y_train, y_test = train_test_split(X, y, test_size=0.2, random_state=42)"
      ],
      "metadata": {
        "id": "REu6yFd7wq4B"
      },
      "execution_count": 18,
      "outputs": []
    },
    {
      "cell_type": "code",
      "source": [
        "print('Shape of X_train = ', X_train.shape)\n",
        "print('Shape of y_train = ', y_train.shape)\n",
        "print('Shape of X_test = ', X_test.shape)\n",
        "print('Shape of y_test = ', y_test.shape)"
      ],
      "metadata": {
        "colab": {
          "base_uri": "https://localhost:8080/"
        },
        "id": "jxvwkiavw1lL",
        "outputId": "67641740-3c70-4bd7-e732-c157dc252af2"
      },
      "execution_count": 19,
      "outputs": [
        {
          "output_type": "stream",
          "name": "stdout",
          "text": [
            "Shape of X_train =  (80000, 6)\n",
            "Shape of y_train =  (80000,)\n",
            "Shape of X_test =  (20000, 6)\n",
            "Shape of y_test =  (20000,)\n"
          ]
        }
      ]
    },
    {
      "cell_type": "markdown",
      "source": [
        "# Feature Engineering"
      ],
      "metadata": {
        "id": "dhe40uETCTJy"
      }
    },
    {
      "cell_type": "code",
      "source": [
        "# Featuere Engineering\n",
        "from sklearn.preprocessing import StandardScaler\n",
        "\n",
        "scaler = StandardScaler()\n",
        "X_train = scaler.fit_transform(X_train)\n",
        "X_test = scaler.transform(X_test)\n"
      ],
      "metadata": {
        "id": "blfprESyw67k"
      },
      "execution_count": 20,
      "outputs": []
    },
    {
      "cell_type": "markdown",
      "source": [
        "# Model Building"
      ],
      "metadata": {
        "id": "op56C6QwCah0"
      }
    },
    {
      "cell_type": "markdown",
      "source": [
        "**Logistic Regression**"
      ],
      "metadata": {
        "id": "zzmqqja4Ce83"
      }
    },
    {
      "cell_type": "code",
      "source": [
        "from sklearn.linear_model import LogisticRegression\n",
        "from sklearn.metrics import accuracy_score, precision_score, recall_score, f1_score\n",
        "\n",
        "logistic_model = LogisticRegression()\n",
        "logistic_model.fit(X_train, y_train)\n",
        "logistic_pred = logistic_model.predict(X_test)"
      ],
      "metadata": {
        "id": "hh9Y2tC1xF5l"
      },
      "execution_count": 26,
      "outputs": []
    },
    {
      "cell_type": "code",
      "source": [
        "print(\"Logistic Regression:\")\n",
        "print(f'Accuracy: {accuracy_score(y_test, logistic_pred)}')\n",
        "print(f'Precision: {precision_score(y_test, logistic_pred)}')\n",
        "print(f'Recall: {recall_score(y_test, logistic_pred)}')\n",
        "print(f'F1-Score: {f1_score(y_test, logistic_pred)}')"
      ],
      "metadata": {
        "colab": {
          "base_uri": "https://localhost:8080/"
        },
        "id": "vBrFs6afxatt",
        "outputId": "7075f5aa-e2af-492d-daca-2fbbf7d0a793"
      },
      "execution_count": 27,
      "outputs": [
        {
          "output_type": "stream",
          "name": "stdout",
          "text": [
            "Logistic Regression:\n",
            "Accuracy: 0.50225\n",
            "Precision: 0.4977596204533474\n",
            "Recall: 0.38070758996068943\n",
            "F1-Score: 0.4314352618653264\n"
          ]
        }
      ]
    },
    {
      "cell_type": "markdown",
      "source": [
        "**Random Forest Classifier**"
      ],
      "metadata": {
        "id": "skNguClPClTA"
      }
    },
    {
      "cell_type": "code",
      "source": [
        "from sklearn.ensemble import RandomForestClassifier"
      ],
      "metadata": {
        "id": "kWhI-7fHyWE2"
      },
      "execution_count": 29,
      "outputs": []
    },
    {
      "cell_type": "code",
      "source": [
        "# Random Forest\n",
        "random_forest_model = RandomForestClassifier()\n",
        "random_forest_model.fit(X_train, y_train)\n",
        "rf_pred = random_forest_model.predict(X_test)"
      ],
      "metadata": {
        "id": "DVhYvLchxbsd"
      },
      "execution_count": 30,
      "outputs": []
    },
    {
      "cell_type": "code",
      "source": [
        "print(\"Random Forest:\")\n",
        "print(f'Accuracy: {accuracy_score(y_test, rf_pred)}')\n",
        "print(f'Precision: {precision_score(y_test, rf_pred)}')\n",
        "print(f'Recall: {recall_score(y_test, rf_pred)}')\n",
        "print(f'F1-Score: {f1_score(y_test, rf_pred)}')"
      ],
      "metadata": {
        "colab": {
          "base_uri": "https://localhost:8080/"
        },
        "id": "a4UJ84bmyMHC",
        "outputId": "3ea46c2d-8047-4e8c-c679-8e0109a66007"
      },
      "execution_count": 31,
      "outputs": [
        {
          "output_type": "stream",
          "name": "stdout",
          "text": [
            "Random Forest:\n",
            "Accuracy: 0.4988\n",
            "Precision: 0.4945646437994723\n",
            "Recall: 0.4723314182038101\n",
            "F1-Score: 0.48319241080635184\n"
          ]
        }
      ]
    },
    {
      "cell_type": "markdown",
      "source": [
        "**Neural Network**"
      ],
      "metadata": {
        "id": "nSSLKSxdC8tp"
      }
    },
    {
      "cell_type": "code",
      "source": [
        "# Neural Network\n",
        "from sklearn.neural_network import MLPClassifier"
      ],
      "metadata": {
        "id": "hOlgR2FVyqs9"
      },
      "execution_count": 32,
      "outputs": []
    },
    {
      "cell_type": "code",
      "source": [
        "neural_net_model = MLPClassifier()\n",
        "neural_net_model.fit(X_train, y_train)\n",
        "nn_pred = neural_net_model.predict(X_test)"
      ],
      "metadata": {
        "id": "KAhU0unZyhzc"
      },
      "execution_count": 33,
      "outputs": []
    },
    {
      "cell_type": "code",
      "source": [
        "print(\"Neural Network:\")\n",
        "print(f'Accuracy: {accuracy_score(y_test, nn_pred)}')\n",
        "print(f'Precision: {precision_score(y_test, nn_pred)}')\n",
        "print(f'Recall: {recall_score(y_test, nn_pred)}')\n",
        "print(f'F1-Score: {f1_score(y_test, nn_pred)}')"
      ],
      "metadata": {
        "colab": {
          "base_uri": "https://localhost:8080/"
        },
        "id": "6ejIPxIHyoEc",
        "outputId": "09e3d644-ed3d-4481-b350-6c9965d353fa"
      },
      "execution_count": 34,
      "outputs": [
        {
          "output_type": "stream",
          "name": "stdout",
          "text": [
            "Neural Network:\n",
            "Accuracy: 0.49805\n",
            "Precision: 0.4906734113183686\n",
            "Recall: 0.31287168632194334\n",
            "F1-Score: 0.3821013110112636\n"
          ]
        }
      ]
    },
    {
      "cell_type": "markdown",
      "source": [
        "Best Model"
      ],
      "metadata": {
        "id": "VOknsU6DDBmj"
      }
    },
    {
      "cell_type": "code",
      "source": [
        "# Select best model\n",
        "logistic_f1 = f1_score(y_test, logistic_pred)\n",
        "rf_f1 = f1_score(y_test, rf_pred)\n",
        "nn_f1 = f1_score(y_test, nn_pred)\n",
        "\n",
        "best_model = None\n",
        "if max(logistic_f1, rf_f1, nn_f1) == logistic_f1:\n",
        "    best_model = logistic_model\n",
        "elif max(logistic_f1, rf_f1, nn_f1) == rf_f1:\n",
        "    best_model = random_forest_model\n",
        "else:\n",
        "    best_model = neural_net_model\n"
      ],
      "metadata": {
        "id": "oRQyBPYKyzt0"
      },
      "execution_count": 35,
      "outputs": []
    },
    {
      "cell_type": "markdown",
      "source": [
        "Save the Best Model"
      ],
      "metadata": {
        "id": "hXHKVMHuDFsc"
      }
    },
    {
      "cell_type": "code",
      "source": [
        "import pickle\n",
        "\n",
        "# Save the model\n",
        "with open('model.pkl', 'wb') as file:\n",
        "    pickle.dump(best_model, file)"
      ],
      "metadata": {
        "id": "Fbwzip46y-NU"
      },
      "execution_count": 37,
      "outputs": []
    }
  ]
}